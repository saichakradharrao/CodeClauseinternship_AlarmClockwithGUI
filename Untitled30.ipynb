{
 "cells": [
  {
   "cell_type": "code",
   "execution_count": null,
   "id": "1e90339c",
   "metadata": {},
   "outputs": [],
   "source": [
    "def alarm(setAlarmTimer):  \n",
    "    while True:  \n",
    "        time.sleep(1)  \n",
    "        actualTime = dt.datetime.now()  \n",
    "        currentTime = actualTime.strftime(\"%H : %M : %S\")  \n",
    "        currentDate = actualTime.strftime(\"%d / %m / %Y\")  \n",
    "        the_message = \"Current Time: \" + str(currentTime)  \n",
    "        print(the_message)  \n",
    "        if currentTime == setAlarmTimer:  \n",
    "            ws.PlaySound(\"sound.wav\", ws.SND_ASYNC)  \n",
    "            break  \n",
    "  \n",
    "def getAlarmTime():  \n",
    "    alarmSetTime = f\"{hour.get()} : {minute.get()} : {second.get()}\"  \n",
    "    alarm(alarmSetTime)  \n"
   ]
  }
 ],
 "metadata": {
  "kernelspec": {
   "display_name": "Python 3 (ipykernel)",
   "language": "python",
   "name": "python3"
  },
  "language_info": {
   "codemirror_mode": {
    "name": "ipython",
    "version": 3
   },
   "file_extension": ".py",
   "mimetype": "text/x-python",
   "name": "python",
   "nbconvert_exporter": "python",
   "pygments_lexer": "ipython3",
   "version": "3.10.9"
  }
 },
 "nbformat": 4,
 "nbformat_minor": 5
}
